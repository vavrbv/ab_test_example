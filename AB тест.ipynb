{
 "cells": [
  {
   "cell_type": "markdown",
   "id": "2942a23b",
   "metadata": {},
   "source": [
    "# Cookie Cats\n",
    "<p>Мобильная игра Cookie Cats разбита на отдельные уровни, между которыми, в некоторый момент, добавляются ворота (калитки),\n",
    "блокирующие доступ к остальным уровням. Для прохода через калитку требуется собрать недостающие ключи или совершить внутриигровую покупку.</p>\n",
    "<p>В данном датасете приведены данные пользователей, разделенных на две группы. В первой группе калитка была установлена на 30 уровне, во второй группе - на 40 уровне.</p>\n",
    "<p>В ходе анализа полученных данных необходимо установить наличие или отсутствие статистической значимости отличий между двумя группами по нескольким показателям.</p>"
   ]
  },
  {
   "cell_type": "code",
   "execution_count": 3,
   "id": "9b959c0e",
   "metadata": {},
   "outputs": [],
   "source": [
    "import pandas as pd\n",
    "import numpy as np\n",
    "import seaborn as sns\n",
    "from scipy.stats import ttest_ind\n",
    "\n",
    "import warnings\n",
    "warnings.filterwarnings('ignore')"
   ]
  },
  {
   "cell_type": "code",
   "execution_count": 4,
   "id": "4d69ef11",
   "metadata": {},
   "outputs": [],
   "source": [
    "np.random.seed(0)"
   ]
  },
  {
   "cell_type": "code",
   "execution_count": 5,
   "id": "a185e683",
   "metadata": {},
   "outputs": [],
   "source": [
    "data = pd.read_csv('cookie_cats.csv')"
   ]
  },
  {
   "cell_type": "markdown",
   "id": "a26f4a6e",
   "metadata": {},
   "source": [
    "# Структура датасета\n",
    "<ul>\n",
    "    <li><code>userid</code> - уникальный идентификатор пользователя;</li>\n",
    "    <li><code>version</code> - группа пользователя (gate_30 или gate_40);</li>\n",
    "    <li><code>sum_gamerounds</code> - количество сыгранных пользователем раундов за 14 дней с момента установки;</li>\n",
    "    <li><code>retention_1</code> - retention первого дня;</li>\n",
    "    <li><code>retention_7</code> - retention седьмого дня.</li>\n",
    "</ul>"
   ]
  },
  {
   "cell_type": "code",
   "execution_count": 6,
   "id": "4f9bbc17",
   "metadata": {},
   "outputs": [
    {
     "data": {
      "text/html": [
       "<div>\n",
       "<style scoped>\n",
       "    .dataframe tbody tr th:only-of-type {\n",
       "        vertical-align: middle;\n",
       "    }\n",
       "\n",
       "    .dataframe tbody tr th {\n",
       "        vertical-align: top;\n",
       "    }\n",
       "\n",
       "    .dataframe thead th {\n",
       "        text-align: right;\n",
       "    }\n",
       "</style>\n",
       "<table border=\"1\" class=\"dataframe\">\n",
       "  <thead>\n",
       "    <tr style=\"text-align: right;\">\n",
       "      <th></th>\n",
       "      <th>userid</th>\n",
       "      <th>version</th>\n",
       "      <th>sum_gamerounds</th>\n",
       "      <th>retention_1</th>\n",
       "      <th>retention_7</th>\n",
       "    </tr>\n",
       "  </thead>\n",
       "  <tbody>\n",
       "    <tr>\n",
       "      <th>0</th>\n",
       "      <td>116</td>\n",
       "      <td>gate_30</td>\n",
       "      <td>3</td>\n",
       "      <td>False</td>\n",
       "      <td>False</td>\n",
       "    </tr>\n",
       "    <tr>\n",
       "      <th>1</th>\n",
       "      <td>337</td>\n",
       "      <td>gate_30</td>\n",
       "      <td>38</td>\n",
       "      <td>True</td>\n",
       "      <td>False</td>\n",
       "    </tr>\n",
       "    <tr>\n",
       "      <th>2</th>\n",
       "      <td>377</td>\n",
       "      <td>gate_40</td>\n",
       "      <td>165</td>\n",
       "      <td>True</td>\n",
       "      <td>False</td>\n",
       "    </tr>\n",
       "    <tr>\n",
       "      <th>3</th>\n",
       "      <td>483</td>\n",
       "      <td>gate_40</td>\n",
       "      <td>1</td>\n",
       "      <td>False</td>\n",
       "      <td>False</td>\n",
       "    </tr>\n",
       "    <tr>\n",
       "      <th>4</th>\n",
       "      <td>488</td>\n",
       "      <td>gate_40</td>\n",
       "      <td>179</td>\n",
       "      <td>True</td>\n",
       "      <td>True</td>\n",
       "    </tr>\n",
       "  </tbody>\n",
       "</table>\n",
       "</div>"
      ],
      "text/plain": [
       "   userid  version  sum_gamerounds  retention_1  retention_7\n",
       "0     116  gate_30               3        False        False\n",
       "1     337  gate_30              38         True        False\n",
       "2     377  gate_40             165         True        False\n",
       "3     483  gate_40               1        False        False\n",
       "4     488  gate_40             179         True         True"
      ]
     },
     "execution_count": 6,
     "metadata": {},
     "output_type": "execute_result"
    }
   ],
   "source": [
    "data.head(5)"
   ]
  },
  {
   "cell_type": "code",
   "execution_count": 7,
   "id": "520c8c9b",
   "metadata": {},
   "outputs": [
    {
     "name": "stdout",
     "output_type": "stream",
     "text": [
      "<class 'pandas.core.frame.DataFrame'>\n",
      "RangeIndex: 90189 entries, 0 to 90188\n",
      "Data columns (total 5 columns):\n",
      " #   Column          Non-Null Count  Dtype \n",
      "---  ------          --------------  ----- \n",
      " 0   userid          90189 non-null  int64 \n",
      " 1   version         90189 non-null  object\n",
      " 2   sum_gamerounds  90189 non-null  int64 \n",
      " 3   retention_1     90189 non-null  bool  \n",
      " 4   retention_7     90189 non-null  bool  \n",
      "dtypes: bool(2), int64(2), object(1)\n",
      "memory usage: 2.2+ MB\n"
     ]
    }
   ],
   "source": [
    "data.info()"
   ]
  },
  {
   "cell_type": "code",
   "execution_count": 8,
   "id": "0c6933e6",
   "metadata": {},
   "outputs": [
    {
     "data": {
      "text/plain": [
       "userid            False\n",
       "version           False\n",
       "sum_gamerounds    False\n",
       "retention_1       False\n",
       "retention_7       False\n",
       "dtype: bool"
      ]
     },
     "execution_count": 8,
     "metadata": {},
     "output_type": "execute_result"
    }
   ],
   "source": [
    "data.isnull().any()"
   ]
  },
  {
   "cell_type": "markdown",
   "id": "af94ae67",
   "metadata": {},
   "source": [
    "<p>В данных отсутствуют пропуски</p>"
   ]
  },
  {
   "cell_type": "code",
   "execution_count": 12,
   "id": "0fd3d971",
   "metadata": {},
   "outputs": [
    {
     "data": {
      "text/plain": [
       "array(['gate_30', 'gate_40'], dtype=object)"
      ]
     },
     "execution_count": 12,
     "metadata": {},
     "output_type": "execute_result"
    }
   ],
   "source": [
    "data.version.unique()"
   ]
  },
  {
   "cell_type": "code",
   "execution_count": 10,
   "id": "3046b01a",
   "metadata": {},
   "outputs": [
    {
     "data": {
      "text/html": [
       "<div>\n",
       "<style scoped>\n",
       "    .dataframe tbody tr th:only-of-type {\n",
       "        vertical-align: middle;\n",
       "    }\n",
       "\n",
       "    .dataframe tbody tr th {\n",
       "        vertical-align: top;\n",
       "    }\n",
       "\n",
       "    .dataframe thead th {\n",
       "        text-align: right;\n",
       "    }\n",
       "</style>\n",
       "<table border=\"1\" class=\"dataframe\">\n",
       "  <thead>\n",
       "    <tr style=\"text-align: right;\">\n",
       "      <th></th>\n",
       "      <th>userid</th>\n",
       "      <th>sum_gamerounds</th>\n",
       "      <th>retention_1</th>\n",
       "      <th>retention_7</th>\n",
       "    </tr>\n",
       "    <tr>\n",
       "      <th>version</th>\n",
       "      <th></th>\n",
       "      <th></th>\n",
       "      <th></th>\n",
       "      <th></th>\n",
       "    </tr>\n",
       "  </thead>\n",
       "  <tbody>\n",
       "    <tr>\n",
       "      <th>gate_30</th>\n",
       "      <td>44700</td>\n",
       "      <td>44700</td>\n",
       "      <td>44700</td>\n",
       "      <td>44700</td>\n",
       "    </tr>\n",
       "    <tr>\n",
       "      <th>gate_40</th>\n",
       "      <td>45489</td>\n",
       "      <td>45489</td>\n",
       "      <td>45489</td>\n",
       "      <td>45489</td>\n",
       "    </tr>\n",
       "  </tbody>\n",
       "</table>\n",
       "</div>"
      ],
      "text/plain": [
       "         userid  sum_gamerounds  retention_1  retention_7\n",
       "version                                                  \n",
       "gate_30   44700           44700        44700        44700\n",
       "gate_40   45489           45489        45489        45489"
      ]
     },
     "execution_count": 10,
     "metadata": {},
     "output_type": "execute_result"
    }
   ],
   "source": [
    "data.groupby('version').count()"
   ]
  },
  {
   "cell_type": "markdown",
   "id": "5f71f37d",
   "metadata": {},
   "source": [
    "<p>Количество измерений в каждой из двух групп примерно совпадает</p>"
   ]
  },
  {
   "cell_type": "code",
   "execution_count": 15,
   "id": "39308017",
   "metadata": {},
   "outputs": [],
   "source": [
    "group_gate_30 = data[data.version == 'gate_30']\n",
    "group_gate_40 = data[data.version == 'gate_40']"
   ]
  },
  {
   "cell_type": "markdown",
   "id": "b410acbb",
   "metadata": {},
   "source": [
    "# Первая гипотеза\n",
    "## Перенос калитки с 30 на 40 уровень не влияет на количество сыгранных раундов"
   ]
  },
  {
   "cell_type": "code",
   "execution_count": 16,
   "id": "ae47f3e7",
   "metadata": {},
   "outputs": [
    {
     "name": "stdout",
     "output_type": "stream",
     "text": [
      "Среднее выборочное группы gate_30: 52.45626398210291\n",
      "Среднее выборочное группы gate_40: 51.29877552814966\n"
     ]
    }
   ],
   "source": [
    "print(f'Среднее выборочное группы gate_30: {np.mean(group_gate_30.sum_gamerounds)}')\n",
    "print(f'Среднее выборочное группы gate_40: {np.mean(group_gate_40.sum_gamerounds)}')"
   ]
  },
  {
   "cell_type": "code",
   "execution_count": 17,
   "id": "df086a91",
   "metadata": {},
   "outputs": [
    {
     "data": {
      "text/plain": [
       "<seaborn.axisgrid.FacetGrid at 0x21cdd6b4a90>"
      ]
     },
     "execution_count": 17,
     "metadata": {},
     "output_type": "execute_result"
    },
    {
     "data": {
      "image/png": "[encoded data removed]",
      "text/plain": [
       "<Figure size 606x500 with 1 Axes>"
      ]
     },
     "metadata": {},
     "output_type": "display_data"
    }
   ],
   "source": [
    "sns.displot({\n",
    "    'gate_30': group_gate_30.sum_gamerounds,\n",
    "    'gate_40': group_gate_40.sum_gamerounds\n",
    "},\n",
    "kind='kde')"
   ]
  },
  {
   "cell_type": "markdown",
   "id": "3759596b",
   "metadata": {},
   "source": [
    "### Вид распределений обоих групп вызывает вопрос о наличии выбросов, проведем логарифмирование"
   ]
  },
  {
   "cell_type": "code",
   "execution_count": 18,
   "id": "fcc805b2",
   "metadata": {},
   "outputs": [],
   "source": [
    "group_gate_30.sum_gamerounds = np.log(group_gate_30.sum_gamerounds + 1)\n",
    "group_gate_40.sum_gamerounds = np.log(group_gate_40.sum_gamerounds + 1)"
   ]
  },
  {
   "cell_type": "code",
   "execution_count": 14,
   "id": "260749fa",
   "metadata": {
    "scrolled": false
   },
   "outputs": [
    {
     "data": {
      "text/plain": [
       "<seaborn.axisgrid.FacetGrid at 0x1e448e1ca10>"
      ]
     },
     "execution_count": 14,
     "metadata": {},
     "output_type": "execute_result"
    },
    {
     "data": {
      "image/png": "[encoded data removed]",
      "text/plain": [
       "<Figure size 606x500 with 1 Axes>"
      ]
     },
     "metadata": {},
     "output_type": "display_data"
    }
   ],
   "source": [
    "sns.displot({\n",
    "    'gate_30': group_gate_30.sum_gamerounds,\n",
    "    'gate_40': group_gate_40.sum_gamerounds\n",
    "},\n",
    "kind='kde')"
   ]
  },
  {
   "cell_type": "markdown",
   "id": "a04a7db4",
   "metadata": {},
   "source": [
    "### После логарифимирования графики распределений визуально слабо отличаются"
   ]
  },
  {
   "cell_type": "code",
   "execution_count": 19,
   "id": "fc7c965e",
   "metadata": {},
   "outputs": [
    {
     "name": "stdout",
     "output_type": "stream",
     "text": [
      "0.06966089932684477\n"
     ]
    }
   ],
   "source": [
    "pvalue = ttest_ind(group_gate_30.sum_gamerounds, group_gate_40.sum_gamerounds).pvalue\n",
    "\n",
    "print(pvalue)"
   ]
  },
  {
   "cell_type": "markdown",
   "id": "96cac4c2",
   "metadata": {},
   "source": [
    "### P-value теста Стьюдента ~0.0697, что больше стандартного критического значения 0.05"
   ]
  },
  {
   "cell_type": "markdown",
   "id": "7a1ceeff",
   "metadata": {},
   "source": [
    "# Вторая гипотеза\n",
    "## Перенос калитки с 30 на 40 уровень не влияет на возвращение пользователей в 1 день"
   ]
  },
  {
   "cell_type": "code",
   "execution_count": 27,
   "id": "22208abe",
   "metadata": {},
   "outputs": [
    {
     "data": {
      "text/html": [
       "<div>\n",
       "<style scoped>\n",
       "    .dataframe tbody tr th:only-of-type {\n",
       "        vertical-align: middle;\n",
       "    }\n",
       "\n",
       "    .dataframe tbody tr th {\n",
       "        vertical-align: top;\n",
       "    }\n",
       "\n",
       "    .dataframe thead th {\n",
       "        text-align: right;\n",
       "    }\n",
       "</style>\n",
       "<table border=\"1\" class=\"dataframe\">\n",
       "  <thead>\n",
       "    <tr style=\"text-align: right;\">\n",
       "      <th></th>\n",
       "      <th>Вернулся на следующий день</th>\n",
       "      <th>НЕ вернулся на следующий день</th>\n",
       "    </tr>\n",
       "  </thead>\n",
       "  <tbody>\n",
       "    <tr>\n",
       "      <th>gate_30</th>\n",
       "      <td>20034</td>\n",
       "      <td>24666</td>\n",
       "    </tr>\n",
       "    <tr>\n",
       "      <th>gate_40</th>\n",
       "      <td>20119</td>\n",
       "      <td>25370</td>\n",
       "    </tr>\n",
       "  </tbody>\n",
       "</table>\n",
       "</div>"
      ],
      "text/plain": [
       "         Вернулся на следующий день  НЕ вернулся на следующий день\n",
       "gate_30                       20034                          24666\n",
       "gate_40                       20119                          25370"
      ]
     },
     "execution_count": 27,
     "metadata": {},
     "output_type": "execute_result"
    }
   ],
   "source": [
    "chi_matrix = pd.DataFrame([pd.Series([len(group_gate_30[group_gate_30.retention_1 == 1]),\n",
    "                                      len(group_gate_30[group_gate_30.retention_1 == 0])]),\n",
    "                           pd.Series([len(group_gate_40[group_gate_40.retention_1 == 1]),\n",
    "                                      len(group_gate_40[group_gate_40.retention_1 == 0])])\n",
    "                          ])\n",
    "\n",
    "chi_matrix.index = ['gate_30', 'gate_40']\n",
    "chi_matrix.columns = ['Вернулся на следующий день', 'НЕ вернулся на следующий день']\n",
    "\n",
    "chi_matrix"
   ]
  },
  {
   "cell_type": "code",
   "execution_count": 30,
   "id": "f60dbd5a",
   "metadata": {},
   "outputs": [
    {
     "name": "stdout",
     "output_type": "stream",
     "text": [
      "3.182963657512103\n",
      "Критическое значение: 3.841\n"
     ]
    }
   ],
   "source": [
    "a = int(chi_matrix.loc['gate_30', 'Вернулся на следующий день'])\n",
    "b = int(chi_matrix.loc['gate_30', 'НЕ вернулся на следующий день'])\n",
    "c = int(chi_matrix.loc['gate_40', 'Вернулся на следующий день'])\n",
    "d = int(chi_matrix.loc['gate_40', 'НЕ вернулся на следующий день'])\n",
    "\n",
    "chi_squared = (a*d - b*c)**2 * sum([a, b, c, d]) / ((a + b)*(c + d)*(a + c)*(b + d))\n",
    "\n",
    "print(chi_squared)\n",
    "print('Критическое значение: 3.841')"
   ]
  },
  {
   "cell_type": "markdown",
   "id": "9df88f37",
   "metadata": {},
   "source": [
    "### Значение хи-квадрат (3.183) меньше критического значения (3.841) для таблицы 2x2 (1 степень свободы)"
   ]
  },
  {
   "cell_type": "markdown",
   "id": "c50f41cd",
   "metadata": {},
   "source": [
    "# Третья гипотеза\n",
    "## Перенос калитки с 30 на 40 уровень не влияет на возвращение пользователя в 7 день"
   ]
  },
  {
   "cell_type": "code",
   "execution_count": 33,
   "id": "c8d32e4f",
   "metadata": {},
   "outputs": [
    {
     "data": {
      "text/html": [
       "<div>\n",
       "<style scoped>\n",
       "    .dataframe tbody tr th:only-of-type {\n",
       "        vertical-align: middle;\n",
       "    }\n",
       "\n",
       "    .dataframe tbody tr th {\n",
       "        vertical-align: top;\n",
       "    }\n",
       "\n",
       "    .dataframe thead th {\n",
       "        text-align: right;\n",
       "    }\n",
       "</style>\n",
       "<table border=\"1\" class=\"dataframe\">\n",
       "  <thead>\n",
       "    <tr style=\"text-align: right;\">\n",
       "      <th></th>\n",
       "      <th>Вернулся на 7 день</th>\n",
       "      <th>НЕ вернулся на 7 день</th>\n",
       "    </tr>\n",
       "  </thead>\n",
       "  <tbody>\n",
       "    <tr>\n",
       "      <th>gate_30</th>\n",
       "      <td>8502</td>\n",
       "      <td>36198</td>\n",
       "    </tr>\n",
       "    <tr>\n",
       "      <th>gate_40</th>\n",
       "      <td>8279</td>\n",
       "      <td>37210</td>\n",
       "    </tr>\n",
       "  </tbody>\n",
       "</table>\n",
       "</div>"
      ],
      "text/plain": [
       "         Вернулся на 7 день  НЕ вернулся на 7 день\n",
       "gate_30                8502                  36198\n",
       "gate_40                8279                  37210"
      ]
     },
     "execution_count": 33,
     "metadata": {},
     "output_type": "execute_result"
    }
   ],
   "source": [
    "chi_matrix = pd.DataFrame([pd.Series([len(group_gate_30[group_gate_30.retention_7 == 1]),\n",
    "                                      len(group_gate_30[group_gate_30.retention_7 == 0])]),\n",
    "                           pd.Series([len(group_gate_40[group_gate_40.retention_7 == 1]),\n",
    "                                      len(group_gate_40[group_gate_40.retention_7 == 0])])\n",
    "                          ])\n",
    "\n",
    "chi_matrix.index = ['gate_30', 'gate_40']\n",
    "chi_matrix.columns = ['Вернулся на 7 день', 'НЕ вернулся на 7 день']\n",
    "\n",
    "chi_matrix"
   ]
  },
  {
   "cell_type": "code",
   "execution_count": 34,
   "id": "e463f99f",
   "metadata": {},
   "outputs": [
    {
     "name": "stdout",
     "output_type": "stream",
     "text": [
      "10.013167328688963\n",
      "Критическое значение: 3.841\n"
     ]
    }
   ],
   "source": [
    "a = int(chi_matrix.loc['gate_30', 'Вернулся на 7 день'])\n",
    "b = int(chi_matrix.loc['gate_30', 'НЕ вернулся на 7 день'])\n",
    "c = int(chi_matrix.loc['gate_40', 'Вернулся на 7 день'])\n",
    "d = int(chi_matrix.loc['gate_40', 'НЕ вернулся на 7 день'])\n",
    "\n",
    "\n",
    "chi_squared = (a*d - b*c)**2 * sum([a, b, c, d]) / ((a + b)*(c + d)*(a + c)*(b + d))\n",
    "\n",
    "print(chi_squared)\n",
    "print('Критическое значение: 3.841')"
   ]
  },
  {
   "cell_type": "markdown",
   "id": "5668b895",
   "metadata": {},
   "source": [
    "### Значение хи-квадрат (10.013) больше критического значения (3.841) для таблицы 2x2 (1 степень свободы)"
   ]
  },
  {
   "cell_type": "markdown",
   "id": "7a21ba12",
   "metadata": {},
   "source": [
    "# Дополнительная проверка второй и третьей гипотез с помощью bootstrap"
   ]
  },
  {
   "cell_type": "code",
   "execution_count": 35,
   "id": "fa35bc91",
   "metadata": {},
   "outputs": [],
   "source": [
    "def get_percentile_ci(bootstrap_stats, alpha):\n",
    "    \"\"\"\n",
    "    Функция расчета границ перцентильного доверительного интервала.\n",
    "    \n",
    "    Параметры: bootstrap_stats - список замеров параметра, для которого строится доверительный интервал;\n",
    "               alpha - уровень значимости.\n",
    "               \n",
    "    Возвращаемые значения: a - левая граница интервала;\n",
    "                           b - правая граница интервала.\n",
    "    \"\"\"\n",
    "    \n",
    "    a, b = np.quantile(bootstrap_stats, [alpha / 2, 1 - alpha / 2])\n",
    "    \n",
    "    return a, b"
   ]
  },
  {
   "cell_type": "code",
   "execution_count": 37,
   "id": "b3f637a6",
   "metadata": {},
   "outputs": [],
   "source": [
    "def bootstrap(group_a, group_b):\n",
    "    \"\"\"\n",
    "    Функция расчета разницы между средними значениями количества вернувшихся пользователей.\n",
    "    \n",
    "    Параметры: group_a - первая группа;\n",
    "               group_b - вторая группа.\n",
    "    \n",
    "    Возвращаемые значения: bootstrap_difference - список разниц между средними;\n",
    "                           bootstrap_group_a - список средних для первой группы;\n",
    "                           bootstrap_group_b - список средних для второй группы.\n",
    "    \"\"\"\n",
    "    \n",
    "    bootstrap_difference = list()\n",
    "    bootstrap_group_a_mean = list()\n",
    "    bootstrap_group_b_mean = list()\n",
    "\n",
    "    for _ in range(1000):\n",
    "\n",
    "        bootstrap_group_a = list()\n",
    "        bootstrap_group_b = list()\n",
    "\n",
    "        for _ in range(100):\n",
    "            sample = np.random.choice(group_a, 1000, True)\n",
    "            bootstrap_group_a.append(len(sample[sample == 1]))\n",
    "\n",
    "        for _ in range(100):\n",
    "            sample = np.random.choice(group_b, 1000, True)\n",
    "            bootstrap_group_b.append(len(sample[sample == 1]))\n",
    "\n",
    "        bootstrap_group_a_mean.append(np.mean(bootstrap_group_a))\n",
    "        bootstrap_group_b_mean.append(np.mean(bootstrap_group_b))\n",
    "\n",
    "        bootstrap_difference.append(bootstrap_group_a_mean[-1] - bootstrap_group_b_mean[-1])\n",
    "    \n",
    "    return bootstrap_difference, bootstrap_group_a_mean, bootstrap_group_b_mean"
   ]
  },
  {
   "cell_type": "code",
   "execution_count": 39,
   "id": "67bb56f6",
   "metadata": {},
   "outputs": [],
   "source": [
    "bootstrap_retention_1, bootstrap_gate_30_retention_1, bootstrap_gate_40_retention_1 = bootstrap(group_gate_30.retention_1,\n",
    "                                                                                               group_gate_40.retention_1)"
   ]
  },
  {
   "cell_type": "code",
   "execution_count": 40,
   "id": "aeb869d3",
   "metadata": {},
   "outputs": [
    {
     "data": {
      "text/plain": [
       "<seaborn.axisgrid.FacetGrid at 0x21ce4a03b90>"
      ]
     },
     "execution_count": 40,
     "metadata": {},
     "output_type": "execute_result"
    },
    {
     "data": {
      "image/png": "[encoded data removed]",
      "text/plain": [
       "<Figure size 606x500 with 1 Axes>"
      ]
     },
     "metadata": {},
     "output_type": "display_data"
    }
   ],
   "source": [
    "sns.displot({\n",
    "    'gate_30': bootstrap_gate_30_retention_1,\n",
    "    'gate_40': bootstrap_gate_40_retention_1\n",
    "},\n",
    "kind='kde')"
   ]
  },
  {
   "cell_type": "code",
   "execution_count": 42,
   "id": "fc7ebe15",
   "metadata": {},
   "outputs": [
    {
     "name": "stdout",
     "output_type": "stream",
     "text": [
      "1.3279999999999845 10.070999999999993\n"
     ]
    }
   ],
   "source": [
    "a, b = get_percentile_ci(bootstrap_retention_1, 0.05)\n",
    "\n",
    "print(a, b)"
   ]
  },
  {
   "cell_type": "markdown",
   "id": "c24078f1",
   "metadata": {},
   "source": [
    "### 0 не попадает в доверительный интервал [1.328, 10.071]"
   ]
  },
  {
   "cell_type": "code",
   "execution_count": 43,
   "id": "fec8b79a",
   "metadata": {},
   "outputs": [],
   "source": [
    "bootstrap_retention_7, bootstrap_gate_30_retention_7, bootstrap_gate_40_retention_7 = bootstrap(group_gate_30.retention_7,\n",
    "                                                                                               group_gate_40.retention_7)"
   ]
  },
  {
   "cell_type": "code",
   "execution_count": 44,
   "id": "f0611bfe",
   "metadata": {},
   "outputs": [
    {
     "data": {
      "text/plain": [
       "<seaborn.axisgrid.FacetGrid at 0x21ce4a5a110>"
      ]
     },
     "execution_count": 44,
     "metadata": {},
     "output_type": "execute_result"
    },
    {
     "data": {
      "image/png": "[encoded data removed]",
      "text/plain": [
       "<Figure size 606x500 with 1 Axes>"
      ]
     },
     "metadata": {},
     "output_type": "display_data"
    }
   ],
   "source": [
    "sns.displot({\n",
    "    'gate_30': bootstrap_gate_30_retention_7,\n",
    "    'gate_40': bootstrap_gate_40_retention_7\n",
    "},\n",
    "kind='kde')"
   ]
  },
  {
   "cell_type": "code",
   "execution_count": 45,
   "id": "60bfde67",
   "metadata": {},
   "outputs": [
    {
     "name": "stdout",
     "output_type": "stream",
     "text": [
      "4.879749999999996 11.650250000000005\n"
     ]
    }
   ],
   "source": [
    "a, b = get_percentile_ci(bootstrap_retention_7, 0.05)\n",
    "\n",
    "print(a, b)"
   ]
  },
  {
   "cell_type": "markdown",
   "id": "f6d9a9df",
   "metadata": {},
   "source": [
    "### 0  не попадает в доверительный интервал [4.879, 11.650]"
   ]
  },
  {
   "cell_type": "markdown",
   "id": "0c33a234",
   "metadata": {},
   "source": [
    "# Вывод\n",
    "<p>По результата T-теста Стьюдента <strong>нельзя</strong> опровергнуть нулевую гипотезу (уровень значимости - 0.05) об отсутствии влияния сдвига калитки с 30 на 40 уровень на количество сыгранных пользователем раундов.</p>\n",
    "<p>По результатам теста Хи-квадрат Пирсона <strong>нельзя</strong> опровергнуть нулевую гипотезу (уровень значимости - 0.05) об отсутствии влияния сдвига калитки с 30 на 40 уровень на retention первого дня, при этом, по результатам bootstrap (0 не попадает в доверительный интервал), <strong>можно</strong> говорить о статистической разнице между группами по этому показателю.</p>\n",
    "<p><p>По результатам теста Хи-квадрат Пирсона <strong>можно</strong> опровергнуть нулевую гипотезу (уровень значимости - 0.05) об отсутствии влияния сдвига калитки с 30 на 40 уровень на retention седьмого дня. Это также подтверждается по результатам bootstrap (0 не попадает в доверительный интервал).</p>\n",
    "\n",
    "<p><i>Сдвиг калитки с 30 на 40 уровень оказывает негативное влияние на показатели возвращения пользователя в 1 и 7 день и не влияет на количество сыгранных раундов.</i></p>"
   ]
  }
 ],
 "metadata": {
  "kernelspec": {
   "display_name": "Python 3 (ipykernel)",
   "language": "python",
   "name": "python3"
  },
  "language_info": {
   "codemirror_mode": {
    "name": "ipython",
    "version": 3
   },
   "file_extension": ".py",
   "mimetype": "text/x-python",
   "name": "python",
   "nbconvert_exporter": "python",
   "pygments_lexer": "ipython3",
   "version": "3.11.1"
  }
 },
 "nbformat": 4,
 "nbformat_minor": 5
}
